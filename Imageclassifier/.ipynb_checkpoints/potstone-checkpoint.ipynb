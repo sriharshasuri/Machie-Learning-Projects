{
 "cells": [
  {
   "cell_type": "code",
   "execution_count": 1,
   "metadata": {
    "collapsed": false,
    "deletable": true,
    "editable": true
   },
   "outputs": [],
   "source": [
    "import os\n",
    "from IPython.display import display\n",
    "from IPython.display import Image as image2\n",
    "from PIL import Image\n",
    "import numpy as np\n",
    "import cv2\n",
    "import matplotlib as plt\n",
    "import re\n",
    "#%matplotlib inline\n"
   ]
  },
  {
   "cell_type": "code",
   "execution_count": 2,
   "metadata": {
    "collapsed": true,
    "deletable": true,
    "editable": true
   },
   "outputs": [],
   "source": [
    "number_of_classes=2"
   ]
  },
  {
   "cell_type": "code",
   "execution_count": 3,
   "metadata": {
    "collapsed": false,
    "deletable": true,
    "editable": true
   },
   "outputs": [
    {
     "name": "stdout",
     "output_type": "stream",
     "text": [
      "hars\n",
      "done deal\n",
      "hars\n",
      "done deal\n"
     ]
    }
   ],
   "source": [
    "#files_class = 'files_class_{}'.format(n)\n",
    "#files_class2 = [f for f in os.listdir('class1')]\n",
    "#for n in number_of_classes:\n",
    "#    files_class = 'files_class_{}'.format(n)\n",
    "files_class0 = [f for f in os.listdir('class0')]\n",
    "files_class1 = [f for f in os.listdir('class1')]\n",
    "dirclass0 = 'class0/'\n",
    "dirclass1 = 'class1/'\n",
    "\n",
    "targetclass0 = 'data/train/SUBFOLDER_0 (CLASS 0)/'\n",
    "targetclass1 = 'data/train/SUBFOLDER_1 (CLASS 1)/'\n",
    "\n",
    "def build_folder(filenames,directory,targetdir):\n",
    "    \n",
    "    if not os.path.exists(targetdir):\n",
    "        os.makedirs(targetdir)\n",
    "    files_targetdir = [f for f in os.listdir(targetdir)]\n",
    "    for j in files_targetdir:\n",
    "        os.remove(targetdir+j)\n",
    "    for i in filenames:\n",
    "            try:\n",
    "                with Image.open(directory+str(i)) as im:         \n",
    "                    im = im.resize([64,64], Image.ANTIALIAS)\n",
    "                    #im = im.convert('L')\n",
    "                    im.save(targetdir+str(i))\n",
    "            except:\n",
    "                print(\"hars\")\n",
    "    print(\"done deal\")\n",
    "\n",
    " \n",
    "build_folder(files_class0,dirclass0,targetclass0)\n",
    "build_folder(files_class1,dirclass1,targetclass1)"
   ]
  },
  {
   "cell_type": "code",
   "execution_count": 4,
   "metadata": {
    "collapsed": false,
    "deletable": true,
    "editable": true
   },
   "outputs": [
    {
     "name": "stdout",
     "output_type": "stream",
     "text": [
      "Mac OS should learn to remove this .DS_Store file\n",
      "Mac OS should learn to remove this .DS_Store file\n"
     ]
    }
   ],
   "source": [
    "for i in range(0,number_of_classes):\n",
    "    count=1\n",
    "    for filename in os.listdir(\"./data/train/SUBFOLDER_\"+str(i)+ \" (CLASS \"+str(i)+\")\"):\n",
    "    #print(filename)\n",
    "    \n",
    "        if filename.endswith(\".jpg\"):\n",
    "            #print(str(count) +'.jpg')\n",
    "            rename='IMG'+str(count) +'.jpg'\n",
    "            rename='CLASS'+str(i)+'_'+rename\n",
    "            #CLASS0_IMG1.jpg\n",
    "            \n",
    "            file_name=\"./data/train/SUBFOLDER_\"+str(i)+ \" (CLASS \"+str(i)+\")/\"+str(filename)\n",
    "            #print(file_name)\n",
    "            rename=\"./data/train/SUBFOLDER_\"+str(i)+ \" (CLASS \"+str(i)+\")/\"+rename\n",
    "            os.rename(file_name, rename)\n",
    "            count+=1\n",
    "    try:\n",
    "        os.remove(\"./data/train/SUBFOLDER_\"+str(i)+ \" (CLASS \"+str(i)+\")/\"+'.DS_Store')\n",
    "    except:\n",
    "        print(\"Mac OS should learn to remove this .DS_Store file\")"
   ]
  },
  {
   "cell_type": "code",
   "execution_count": 5,
   "metadata": {
    "collapsed": false,
    "deletable": true,
    "editable": true
   },
   "outputs": [
    {
     "name": "stdout",
     "output_type": "stream",
     "text": [
      "checking image existence: data/train/SUBFOLDER_0 (CLASS 0)/\n"
     ]
    },
    {
     "data": {
      "image/jpeg": "[encoded data removed]",
      "text/plain": [
       "<IPython.core.display.Image object>"
      ]
     },
     "metadata": {},
     "output_type": "display_data"
    }
   ],
   "source": [
    "print(\"checking image existence: %s\" % targetclass0)\n",
    "display(image2(filename=str(targetclass0)+\"CLASS0_IMG1.jpg\"))"
   ]
  },
  {
   "cell_type": "code",
   "execution_count": 6,
   "metadata": {
    "collapsed": false,
    "deletable": true,
    "editable": true
   },
   "outputs": [
    {
     "name": "stdout",
     "output_type": "stream",
     "text": [
      "checking image existence: data/train/SUBFOLDER_1 (CLASS 1)/\n"
     ]
    },
    {
     "data": {
      "image/jpeg": "[encoded data removed]",
      "text/plain": [
       "<IPython.core.display.Image object>"
      ]
     },
     "metadata": {},
     "output_type": "display_data"
    }
   ],
   "source": [
    "print(\"checking image existence: %s\" % targetclass1)\n",
    "display(image2(filename=str(targetclass1)+\"CLASS1_IMG1.jpg\"))"
   ]
  },
  {
   "cell_type": "code",
   "execution_count": 7,
   "metadata": {
    "collapsed": true,
    "deletable": true,
    "editable": true
   },
   "outputs": [],
   "source": [
    "from __future__ import division, print_function, absolute_import\n",
    "\n",
    "# Import tflearn and some helpers\n",
    "import tflearn\n",
    "from tflearn.data_utils import shuffle\n",
    "from tflearn.layers.core import input_data, dropout, fully_connected\n",
    "from tflearn.layers.conv import conv_2d, max_pool_2d\n",
    "from tflearn.layers.estimator import regression\n",
    "from tflearn.data_preprocessing import ImagePreprocessing\n",
    "from tflearn.data_augmentation import ImageAugmentation\n",
    "#import pickle"
   ]
  },
  {
   "cell_type": "code",
   "execution_count": 8,
   "metadata": {
    "collapsed": false,
    "deletable": true,
    "editable": true
   },
   "outputs": [],
   "source": [
    "from tflearn.data_utils import build_hdf5_image_dataset\n",
    "#tflearn.data_utils.build_hdf5_image_dataset (target_path, \n",
    "#                                             image_shape, \n",
    "#                                             output_path='dataset.h5', \n",
    "#                                             mode='file', \n",
    "#                                             categorical_labels=True, \n",
    "#                                             normalize=True, \n",
    "#                                             grayscale=False, \n",
    "#                                             files_extension=None, \n",
    "#                                             chunks=False)"
   ]
  },
  {
   "cell_type": "code",
   "execution_count": 9,
   "metadata": {
    "collapsed": false,
    "deletable": true,
    "editable": true
   },
   "outputs": [
    {
     "name": "stdout",
     "output_type": "stream",
     "text": [
      "Mac OS should learn to remove this .DS_Store file\n",
      "Mac OS should learn to remove this .DS_Store file\n"
     ]
    }
   ],
   "source": [
    "#os.remove(\"./data/train/SUBFOLDER_0\"+ \" (CLASS 0\"+\")/\"+'.DS_Store')\n",
    "#os.remove(\"./data/train/SUBFOLDER_1\"+ \" (CLASS 1\"+\")/\"+'.DS_Store')\n",
    "for i in range(0,number_of_classes):\n",
    "    try:\n",
    "        os.remove(\"./data/train/SUBFOLDER_\"+str(i)+ \" (CLASS \"+str(i)+\")/\"+'.DS_Store')\n",
    "    except:\n",
    "        print(\"Mac OS should learn to remove this .DS_Store file\")"
   ]
  },
  {
   "cell_type": "code",
   "execution_count": 10,
   "metadata": {
    "collapsed": false,
    "deletable": true,
    "editable": true
   },
   "outputs": [],
   "source": [
    "build_hdf5_image_dataset(\"./data/train/\", \n",
    "                         image_shape=(128, 128), \n",
    "                         mode='folder', \n",
    "                         output_path='dataset_train.h5', \n",
    "                         categorical_labels=True, \n",
    "                         normalize=True)\n",
    "import h5py\n",
    "#h5f = h5py.File('dataset.h5', 'r')\n",
    "#X = h5f['X']\n",
    "#Y = h5f['Y']\n",
    "#X.reshape([-1,32,32,3])\n",
    "with h5py.File('dataset_train.h5', 'r') as f:\n",
    "    x_train = f['X'][()]\n",
    "with h5py.File('dataset_train.h5', 'r') as f:\n",
    "    y_train = f['Y'][()]\n"
   ]
  },
  {
   "cell_type": "code",
   "execution_count": null,
   "metadata": {
    "collapsed": true,
    "deletable": true,
    "editable": true
   },
   "outputs": [],
   "source": []
  },
  {
   "cell_type": "code",
   "execution_count": 11,
   "metadata": {
    "collapsed": false,
    "deletable": true,
    "editable": true
   },
   "outputs": [],
   "source": [
    "#data for the image is created on the fly\n",
    "#X_data, Y_data = tflearn.data_utils.image_preloader (\"./data/train/\",\n",
    "#                                    (32,32), \n",
    "#                                    mode='folder', \n",
    "#                                    normalize=True, \n",
    "#                                    grayscale=False, \n",
    "#                                    categorical_labels=True, \n",
    "#                                    files_extension=None, \n",
    "#                                    filter_channel=False)\n"
   ]
  },
  {
   "cell_type": "code",
   "execution_count": 12,
   "metadata": {
    "collapsed": false,
    "deletable": true,
    "editable": true
   },
   "outputs": [],
   "source": [
    "\n",
    "# Data normalizing\n",
    "img_prep = ImagePreprocessing()\n",
    "img_prep.add_featurewise_zero_center()\n",
    "img_prep.add_featurewise_stdnorm()\n",
    "\n",
    "\n",
    "\n",
    "img_aug = ImageAugmentation()\n",
    "img_aug.add_random_flip_leftright()\n",
    "img_aug.add_random_rotation(max_angle=25.)\n",
    "img_aug.add_random_blur(sigma_max=3.)\n",
    "\n",
    "# network architecture:\n",
    "\n",
    "# Input:128x128x3 image \n",
    "network = input_data(shape=[None, 128, 128, 3],\n",
    "                     data_preprocessing=img_prep,\n",
    "                     data_augmentation=img_aug)\n",
    "\n",
    "# Convolution\n",
    "network = conv_2d(network, 8, 3, activation='relu')\n",
    "\n",
    "# Max pooling\n",
    "network = max_pool_2d(network, 2)\n",
    "\n",
    "# Convolution \n",
    "network = conv_2d(network, 16, 5, activation='relu')\n",
    "\n",
    "# Convolution \n",
    "network = conv_2d(network, 32, 7, activation='relu')\n",
    "\n",
    "# Max pooling\n",
    "network = max_pool_2d(network, 4)\n",
    "\n",
    "# Fully-connected neural network\n",
    "network = fully_connected(network, 1024, activation='relu')\n",
    "\n",
    "# Dropout\n",
    "network = dropout(network, 0.4)\n",
    "\n",
    "# two outputs \n",
    "network = fully_connected(network, 2, activation='softmax')\n",
    "\n",
    "# optimizer \n",
    "network = regression(network, optimizer='adam',\n",
    "                     loss='categorical_crossentropy',\n",
    "                     learning_rate=0.001)\n",
    "\n",
    "# model object\n",
    "model = tflearn.DNN(network, tensorboard_verbose=0, checkpoint_path=None)\n",
    "\n"
   ]
  },
  {
   "cell_type": "code",
   "execution_count": 13,
   "metadata": {
    "collapsed": false
   },
   "outputs": [
    {
     "name": "stdout",
     "output_type": "stream",
     "text": [
      ".DS_Store\n",
      "checkpoint\n",
      "potato-classifier.tfl.data-00000-of-00001\n",
      "potato-classifier.tfl.index\n",
      "potato-classifier.tfl.meta\n"
     ]
    }
   ],
   "source": [
    "# creating a place to save the model\n",
    "modeldir=\"./model/\"\n",
    "if not os.path.exists(modeldir):\n",
    "    os.makedirs(modeldir)\n",
    "\n",
    "for j in os.listdir(modeldir):\n",
    "    #print(j)\n",
    "    if os.path.exists(modeldir+j):\n",
    "        os.remove(modeldir+j)"
   ]
  },
  {
   "cell_type": "code",
   "execution_count": 14,
   "metadata": {
    "collapsed": false,
    "deletable": true,
    "editable": true
   },
   "outputs": [
    {
     "name": "stdout",
     "output_type": "stream",
     "text": [
      "Training Step: 800  | total loss: \u001b[1m\u001b[32m0.17759\u001b[0m\u001b[0m | time: 4.887s\n",
      "| Adam | epoch: 200 | loss: 0.17759 - acc: 0.9662 -- iter: 165/165\n",
      "INFO:tensorflow:/Users/pavanteja/Desktop/Desktop - Pavan’s MacBook Pro/Documents/personal/productive/CompSci/Python/ML/DeepLearning/Imageclassifier/model/potato-classifier.tfl is not in all_model_checkpoint_paths. Manually adding it.\n",
      "Network trained and saved as potato-classifier.tfl!\n"
     ]
    }
   ],
   "source": [
    "\n",
    "# Training\n",
    "model.fit(x_train, y_train, n_epoch=200, shuffle=None, validation_set=None,\n",
    "          show_metric=True, batch_size=50,\n",
    "          snapshot_epoch=False,\n",
    "          run_id=None,callbacks=[])\n",
    "\n",
    "# Saving model\n",
    "    \n",
    "model.save(str(str(modeldir)+\"potato-classifier.tfl\"))\n",
    "print(\"Network trained and saved as potato-classifier.tfl!\")"
   ]
  },
  {
   "cell_type": "code",
   "execution_count": null,
   "metadata": {
    "collapsed": false
   },
   "outputs": [],
   "source": []
  },
  {
   "cell_type": "code",
   "execution_count": 15,
   "metadata": {
    "collapsed": false,
    "deletable": true,
    "editable": true
   },
   "outputs": [
    {
     "name": "stdout",
     "output_type": "stream",
     "text": [
      "Looks like i dont have the customs file\n"
     ]
    }
   ],
   "source": [
    "try:\n",
    "    os.remove(\"./data/test/SUBFOLDER_0\"+ \" (CLASS 0\"+\")/\"+'.DS_Store')\n",
    "    os.remove(\"./data/test/SUBFOLDER_1\"+ \" (CLASS 1\"+\")/\"+'.DS_Store')\n",
    "except:\n",
    "    print(\"Looks like i dont have the customs file\")"
   ]
  },
  {
   "cell_type": "code",
   "execution_count": 16,
   "metadata": {
    "collapsed": false,
    "deletable": true,
    "editable": true
   },
   "outputs": [],
   "source": [
    "build_hdf5_image_dataset(\"./data/test/\", \n",
    "                         image_shape=(128, 128), \n",
    "                         mode='folder', \n",
    "                         output_path='dataset_test.h5', \n",
    "                         categorical_labels=True, \n",
    "                         normalize=True)\n",
    "import h5py\n",
    "#h5f = h5py.File('dataset.h5', 'r')\n",
    "#X = h5f['X']\n",
    "#Y = h5f['Y']\n",
    "#X.reshape([-1,32,32,3])\n",
    "with h5py.File('dataset_test.h5', 'r') as f:\n",
    "    x_test = f['X'][()]\n",
    "with h5py.File('dataset_test.h5', 'r') as f:\n",
    "    y_test = f['Y'][()]"
   ]
  },
  {
   "cell_type": "code",
   "execution_count": null,
   "metadata": {
    "collapsed": false
   },
   "outputs": [],
   "source": []
  },
  {
   "cell_type": "code",
   "execution_count": 19,
   "metadata": {
    "collapsed": false
   },
   "outputs": [],
   "source": [
    "# incase too lazy to re-train the model load the saved model\n",
    "model.load(model_file=\"./model/potato-classifier.tfl\")\n"
   ]
  },
  {
   "cell_type": "code",
   "execution_count": null,
   "metadata": {
    "collapsed": false
   },
   "outputs": [],
   "source": [
    "#model.fit(x_train, y_train, n_epoch=1, shuffle=None, validation_set=None,\n",
    "#          show_metric=True, batch_size=50,\n",
    "#          snapshot_epoch=False,\n",
    "#          run_id=None,callbacks=[])"
   ]
  },
  {
   "cell_type": "code",
   "execution_count": 20,
   "metadata": {
    "collapsed": false,
    "deletable": true,
    "editable": true
   },
   "outputs": [
    {
     "name": "stdout",
     "output_type": "stream",
     "text": [
      "[[1.0, 2.5118624194520045e-11], [0.009158439002931118, 0.9908415079116821], [1.3727372788707726e-05, 0.9999862909317017]]\n"
     ]
    }
   ],
   "source": [
    "results = model.predict(x_test)\n",
    "print(results)"
   ]
  },
  {
   "cell_type": "code",
   "execution_count": 21,
   "metadata": {
    "collapsed": false,
    "deletable": true,
    "editable": true
   },
   "outputs": [
    {
     "name": "stdout",
     "output_type": "stream",
     "text": [
      "[[ 1.  0.]\n",
      " [ 0.  1.]\n",
      " [ 0.  1.]]\n"
     ]
    }
   ],
   "source": [
    "print(y_test)"
   ]
  },
  {
   "cell_type": "code",
   "execution_count": null,
   "metadata": {
    "collapsed": true
   },
   "outputs": [],
   "source": []
  }
 ],
 "metadata": {
  "kernelspec": {
   "display_name": "Python 3",
   "language": "python",
   "name": "python3"
  },
  "language_info": {
   "codemirror_mode": {
    "name": "ipython",
    "version": 3
   },
   "file_extension": ".py",
   "mimetype": "text/x-python",
   "name": "python",
   "nbconvert_exporter": "python",
   "pygments_lexer": "ipython3",
   "version": "3.6.0"
  }
 },
 "nbformat": 4,
 "nbformat_minor": 2
}
