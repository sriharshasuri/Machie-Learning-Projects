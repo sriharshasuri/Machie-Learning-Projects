{
 "cells": [
  {
   "cell_type": "code",
   "execution_count": 13,
   "metadata": {
    "collapsed": true
   },
   "outputs": [],
   "source": [
    "import sklearn\n",
    "\n",
    "import pandas as pd\n",
    "import numpy as np\n",
    "import math\n",
    "import seaborn as sns\n",
    "from sklearn.cluster import MiniBatchKMeans\n",
    "\n",
    "\n",
    "import matplotlib.pyplot as plt\n",
    "\n",
    "import bokeh\n",
    "\n",
    "import tensorflow as tf\n",
    "\n",
    "\n",
    "\n",
    "# function to modify colunnames\n",
    "def add_to_columnnames(df, word):\n",
    "    names = list(df.columns)\n",
    "    names = [word+'_'+str(i) for i in names]\n",
    "    df.columns = names\n",
    "    return(df)"
   ]
  },
  {
   "cell_type": "code",
   "execution_count": 2,
   "metadata": {
    "collapsed": true
   },
   "outputs": [],
   "source": [
    "orders = pd.read_csv(\"orders.csv\")\n",
    "priororders = pd.read_csv(\"order_products__prior.csv\")\n",
    "products = pd.read_csv(\"products.csv\")\n"
   ]
  },
  {
   "cell_type": "code",
   "execution_count": 5,
   "metadata": {
    "collapsed": false
   },
   "outputs": [
    {
     "name": "stderr",
     "output_type": "stream",
     "text": [
      "C:\\Program Files\\Anaconda3\\lib\\site-packages\\ipykernel\\__main__.py:20: FutureWarning: sort(columns=....) is deprecated, use sort_values(by=.....)\n",
      "C:\\Program Files\\Anaconda3\\lib\\site-packages\\ipykernel\\__main__.py:29: FutureWarning: sort(columns=....) is deprecated, use sort_values(by=.....)\n"
     ]
    }
   ],
   "source": [
    "# Data Preparation for clustering on average number of orders from each aisle\n",
    "\n",
    "# Adding aisle_id to the priororders dataset\n",
    "priororders = priororders.join(products[['product_id','aisle_id']].set_index(\n",
    "                                            'product_id'), how = 'left', on = 'product_id')\n",
    "\n",
    "del priororders['product_id']\n",
    "# Joining user_id to the priororders dataset\n",
    "priororders = priororders.join(orders[['order_id','user_id']].set_index('order_id'), how = 'left', on = 'order_id')\n",
    "\n",
    "\n",
    "# Number of transactions per user per order from an aisle\n",
    "amean = priororders.groupby(['user_id','order_id','aisle_id'], as_index = False).count()\n",
    "\n",
    "# Number of transactions per user from each aisle\n",
    "amean1 = amean[['user_id', 'aisle_id', 'reordered']].groupby(['user_id', 'aisle_id'], as_index = False).sum()\n",
    "\n",
    "\n",
    "\n",
    "amean1.sort(['user_id','aisle_id'], ascending = [1,1], inplace = True)\n",
    "amean1 = amean1.pivot(index = 'user_id', columns = 'aisle_id', values = 'reordered')\n",
    "amean1 = amean1.fillna(value = 0)\n",
    "\n",
    "\n",
    "\n",
    "amean1 = add_to_columnnames(amean1, \"mean_aisle\")\n",
    "\n",
    "a_orders = amean[['user_id', 'order_id']].groupby(['user_id'], as_index = False).count()\n",
    "a_orders.sort(['user_id',], ascending = [1], inplace = True)\n",
    "\n",
    "amean1.index = range(206209)\n",
    "amean1 = amean1.iloc[:,:134].div(a_orders.order_id, axis=0)\n",
    "\n",
    "\n",
    "amean1['user_id'] = a_orders['user_id']\n",
    "amean1.set_index('user_id', inplace = True)\n",
    "\n",
    "aisles = pd.read_csv(\"aisles.csv\")\n",
    "\n",
    "a = list(amean1.columns)\n",
    "a = aisles['aisle']\n",
    "amean1.columns = a\n",
    "\n",
    "\n",
    "amean1.to_csv(\"customer_aisle_summary.csv\")\n",
    "\n",
    "\n",
    "del amean1\n",
    "del amean"
   ]
  },
  {
   "cell_type": "code",
   "execution_count": 6,
   "metadata": {
    "collapsed": true
   },
   "outputs": [],
   "source": [
    "aisle_summary = pd.read_csv(\"customer_aisle_summary.csv\")"
   ]
  },
  {
   "cell_type": "code",
   "execution_count": 7,
   "metadata": {
    "collapsed": false
   },
   "outputs": [
    {
     "data": {
      "text/html": [
       "<div>\n",
       "<table border=\"1\" class=\"dataframe\">\n",
       "  <thead>\n",
       "    <tr style=\"text-align: right;\">\n",
       "      <th></th>\n",
       "      <th>user_id</th>\n",
       "      <th>prepared soups salads</th>\n",
       "      <th>specialty cheeses</th>\n",
       "      <th>energy granola bars</th>\n",
       "      <th>instant foods</th>\n",
       "      <th>marinades meat preparation</th>\n",
       "      <th>other</th>\n",
       "      <th>packaged meat</th>\n",
       "      <th>bakery desserts</th>\n",
       "      <th>pasta sauce</th>\n",
       "      <th>...</th>\n",
       "      <th>trail mix snack mix</th>\n",
       "      <th>feminine care</th>\n",
       "      <th>body lotions soap</th>\n",
       "      <th>tortillas flat bread</th>\n",
       "      <th>frozen appetizers sides</th>\n",
       "      <th>hot cereal pancake mixes</th>\n",
       "      <th>dry pasta</th>\n",
       "      <th>beauty</th>\n",
       "      <th>muscles joints pain relief</th>\n",
       "      <th>specialty wines champagnes</th>\n",
       "    </tr>\n",
       "  </thead>\n",
       "  <tbody>\n",
       "    <tr>\n",
       "      <th>0</th>\n",
       "      <td>1</td>\n",
       "      <td>0.00000</td>\n",
       "      <td>0.0</td>\n",
       "      <td>0.000000</td>\n",
       "      <td>0.000000</td>\n",
       "      <td>0.0</td>\n",
       "      <td>0.0</td>\n",
       "      <td>0.0</td>\n",
       "      <td>0.0</td>\n",
       "      <td>0.0</td>\n",
       "      <td>...</td>\n",
       "      <td>0.0</td>\n",
       "      <td>0.0</td>\n",
       "      <td>0.0</td>\n",
       "      <td>0.000000</td>\n",
       "      <td>0.0</td>\n",
       "      <td>0.0</td>\n",
       "      <td>0.0</td>\n",
       "      <td>0.0</td>\n",
       "      <td>0.0</td>\n",
       "      <td>0.000000</td>\n",
       "    </tr>\n",
       "    <tr>\n",
       "      <th>1</th>\n",
       "      <td>2</td>\n",
       "      <td>0.00885</td>\n",
       "      <td>0.0</td>\n",
       "      <td>0.053097</td>\n",
       "      <td>0.000000</td>\n",
       "      <td>0.0</td>\n",
       "      <td>0.0</td>\n",
       "      <td>0.0</td>\n",
       "      <td>0.0</td>\n",
       "      <td>0.0</td>\n",
       "      <td>...</td>\n",
       "      <td>0.0</td>\n",
       "      <td>0.0</td>\n",
       "      <td>0.0</td>\n",
       "      <td>0.000000</td>\n",
       "      <td>0.0</td>\n",
       "      <td>0.0</td>\n",
       "      <td>0.0</td>\n",
       "      <td>0.0</td>\n",
       "      <td>0.0</td>\n",
       "      <td>0.000000</td>\n",
       "    </tr>\n",
       "    <tr>\n",
       "      <th>2</th>\n",
       "      <td>3</td>\n",
       "      <td>0.00000</td>\n",
       "      <td>0.0</td>\n",
       "      <td>0.000000</td>\n",
       "      <td>0.057971</td>\n",
       "      <td>0.0</td>\n",
       "      <td>0.0</td>\n",
       "      <td>0.0</td>\n",
       "      <td>0.0</td>\n",
       "      <td>0.0</td>\n",
       "      <td>...</td>\n",
       "      <td>0.0</td>\n",
       "      <td>0.0</td>\n",
       "      <td>0.0</td>\n",
       "      <td>0.000000</td>\n",
       "      <td>0.0</td>\n",
       "      <td>0.0</td>\n",
       "      <td>0.0</td>\n",
       "      <td>0.0</td>\n",
       "      <td>0.0</td>\n",
       "      <td>0.000000</td>\n",
       "    </tr>\n",
       "    <tr>\n",
       "      <th>3</th>\n",
       "      <td>4</td>\n",
       "      <td>0.00000</td>\n",
       "      <td>0.0</td>\n",
       "      <td>0.000000</td>\n",
       "      <td>0.000000</td>\n",
       "      <td>0.0</td>\n",
       "      <td>0.0</td>\n",
       "      <td>0.0</td>\n",
       "      <td>0.0</td>\n",
       "      <td>0.0</td>\n",
       "      <td>...</td>\n",
       "      <td>0.0</td>\n",
       "      <td>0.0</td>\n",
       "      <td>0.0</td>\n",
       "      <td>0.066667</td>\n",
       "      <td>0.0</td>\n",
       "      <td>0.0</td>\n",
       "      <td>0.0</td>\n",
       "      <td>0.0</td>\n",
       "      <td>0.0</td>\n",
       "      <td>0.066667</td>\n",
       "    </tr>\n",
       "    <tr>\n",
       "      <th>4</th>\n",
       "      <td>5</td>\n",
       "      <td>0.00000</td>\n",
       "      <td>0.0</td>\n",
       "      <td>0.000000</td>\n",
       "      <td>0.000000</td>\n",
       "      <td>0.0</td>\n",
       "      <td>0.0</td>\n",
       "      <td>0.0</td>\n",
       "      <td>0.0</td>\n",
       "      <td>0.0</td>\n",
       "      <td>...</td>\n",
       "      <td>0.0</td>\n",
       "      <td>0.0</td>\n",
       "      <td>0.0</td>\n",
       "      <td>0.000000</td>\n",
       "      <td>0.0</td>\n",
       "      <td>0.0</td>\n",
       "      <td>0.0</td>\n",
       "      <td>0.0</td>\n",
       "      <td>0.0</td>\n",
       "      <td>0.000000</td>\n",
       "    </tr>\n",
       "  </tbody>\n",
       "</table>\n",
       "<p>5 rows × 135 columns</p>\n",
       "</div>"
      ],
      "text/plain": [
       "   user_id  prepared soups salads  specialty cheeses  energy granola bars  \\\n",
       "0        1                0.00000                0.0             0.000000   \n",
       "1        2                0.00885                0.0             0.053097   \n",
       "2        3                0.00000                0.0             0.000000   \n",
       "3        4                0.00000                0.0             0.000000   \n",
       "4        5                0.00000                0.0             0.000000   \n",
       "\n",
       "   instant foods  marinades meat preparation  other  packaged meat  \\\n",
       "0       0.000000                         0.0    0.0            0.0   \n",
       "1       0.000000                         0.0    0.0            0.0   \n",
       "2       0.057971                         0.0    0.0            0.0   \n",
       "3       0.000000                         0.0    0.0            0.0   \n",
       "4       0.000000                         0.0    0.0            0.0   \n",
       "\n",
       "   bakery desserts  pasta sauce             ...              \\\n",
       "0              0.0          0.0             ...               \n",
       "1              0.0          0.0             ...               \n",
       "2              0.0          0.0             ...               \n",
       "3              0.0          0.0             ...               \n",
       "4              0.0          0.0             ...               \n",
       "\n",
       "   trail mix snack mix  feminine care  body lotions soap  \\\n",
       "0                  0.0            0.0                0.0   \n",
       "1                  0.0            0.0                0.0   \n",
       "2                  0.0            0.0                0.0   \n",
       "3                  0.0            0.0                0.0   \n",
       "4                  0.0            0.0                0.0   \n",
       "\n",
       "   tortillas flat bread  frozen appetizers sides  hot cereal pancake mixes  \\\n",
       "0              0.000000                      0.0                       0.0   \n",
       "1              0.000000                      0.0                       0.0   \n",
       "2              0.000000                      0.0                       0.0   \n",
       "3              0.066667                      0.0                       0.0   \n",
       "4              0.000000                      0.0                       0.0   \n",
       "\n",
       "   dry pasta  beauty  muscles joints pain relief  specialty wines champagnes  \n",
       "0        0.0     0.0                         0.0                    0.000000  \n",
       "1        0.0     0.0                         0.0                    0.000000  \n",
       "2        0.0     0.0                         0.0                    0.000000  \n",
       "3        0.0     0.0                         0.0                    0.066667  \n",
       "4        0.0     0.0                         0.0                    0.000000  \n",
       "\n",
       "[5 rows x 135 columns]"
      ]
     },
     "execution_count": 7,
     "metadata": {},
     "output_type": "execute_result"
    }
   ],
   "source": [
    "aisle_summary.head()"
   ]
  },
  {
   "cell_type": "code",
   "execution_count": null,
   "metadata": {
    "collapsed": true
   },
   "outputs": [],
   "source": []
  },
  {
   "cell_type": "code",
   "execution_count": 9,
   "metadata": {
    "collapsed": false
   },
   "outputs": [],
   "source": [
    "##Clustering\n",
    "\n",
    "\n",
    "summary = pd.read_csv(\"customer_aisle_summary.csv\")\n",
    "summary.set_index('user_id', inplace = True)\n",
    "\n",
    "X = np.matrix(summary)\n",
    "X =sklearn.preprocessing.scale(X, axis=0, with_mean=True, with_std=True, copy=False)\n",
    "\n",
    "\n",
    "\n",
    "Ks1 = range(1, 20)\n",
    "km = [MiniBatchKMeans(init='k-means++', n_clusters=i,n_init=5000, max_no_improvement=10, verbose=0) for i in Ks1]\n",
    "score1 = [km[i].fit(X).score(X) for i in range(len(km))]\n"
   ]
  },
  {
   "cell_type": "code",
   "execution_count": 10,
   "metadata": {
    "collapsed": false
   },
   "outputs": [
    {
     "data": {
      "image/png": "[encoded data removed]",
      "text/plain": [
       "<matplotlib.figure.Figure at 0x2cc8e67e940>"
      ]
     },
     "metadata": {},
     "output_type": "display_data"
    }
   ],
   "source": [
    "plt.plot(Ks1, score1)\n",
    "plt.title(\"Plot of effeciveness score vs k (number of clusters)\")\n",
    "plt.xlabel(\"Number of Clusters, K\")\n",
    "plt.ylabel(\"Effectiveness Score\")\n",
    "plt.show()"
   ]
  },
  {
   "cell_type": "code",
   "execution_count": null,
   "metadata": {
    "collapsed": false
   },
   "outputs": [],
   "source": [
    "# From the elbow plot, it is evident that there is no proper trend in variation of effectiveness score\n",
    "# with number of cluster. This is probably beacuse of the use 134 variables (Use of too may variables \n",
    "# in k-means clustering might result in noisy results)"
   ]
  },
  {
   "cell_type": "code",
   "execution_count": null,
   "metadata": {
    "collapsed": false
   },
   "outputs": [],
   "source": [
    "##Clustering on the activity of the customers"
   ]
  },
  {
   "cell_type": "code",
   "execution_count": 3,
   "metadata": {
    "collapsed": false
   },
   "outputs": [],
   "source": [
    "priororders = pd.read_csv(\"order_products__prior.csv\")\n",
    "orders = pd.read_csv(\"orders.csv\")\n",
    "\n",
    "a = list(orders['order_hour_of_day'])\n",
    "\n",
    "#Function to create buckets for time of the day\n",
    "def bucket(a):\n",
    "    if 0<=a<5:\n",
    "        return 1\n",
    "    elif 5<=a<9:\n",
    "        return 2\n",
    "    elif 9<=a<12:\n",
    "        return 3\n",
    "    elif 12<=a<15:\n",
    "        return 4\n",
    "    elif 15<=a<18:\n",
    "        return 5\n",
    "    elif 18<=a<21:\n",
    "        return 6\n",
    "    elif 21<=a<=24:\n",
    "        return 7\n",
    "\n",
    "\n",
    "\n",
    "orders['order_hour_of_day'] = list(map(bucket, a))\n",
    "\n",
    "\n",
    "# Pivoting hour of the day column to create a column for each bucket and summarising average number \n",
    "# of orders by a customer during each bucket\n",
    "hour = orders[['user_id', 'order_id', 'order_hour_of_day']]\n",
    "hour = pd.DataFrame(hour.pivot_table(hour, index = 'user_id', columns = 'order_hour_of_day', aggfunc = lambda x: len(x.unique())))\n",
    "hour = hour.fillna(value = 0)\n",
    "\n",
    "# Pivoting day of the week and summarising average number of orders by a customer during any particular\n",
    "# day of the week\n",
    "day = orders[['user_id', 'order_id', 'order_dow']]\n",
    "day = pd.DataFrame(day.pivot_table(day, index = 'user_id', columns = 'order_dow', aggfunc = lambda x: len(x.unique())))\n",
    "day = day.fillna(0)\n",
    "\n",
    "# Column representing number of orders per customer\n",
    "norders = pd.DataFrame(orders[['user_id', 'order_number']].groupby('user_id', as_index = False).order_number.max())\n",
    "\n",
    "# Column representing average number of days between orders for a customer\n",
    "days = orders[orders.order_number!=1]\n",
    "days = pd.DataFrame(days[['user_id','days_since_prior_order']].groupby('user_id', as_index = False).mean())\n",
    "\n",
    "\n",
    "\n",
    "hour.columns = range(1,8)\n",
    "hour = add_to_columnnames(hour, \"time_of_day_\")\n",
    "\n",
    "day.columns = range(1,8)\n",
    "day = add_to_columnnames(day, \"day_of_week_\")\n",
    "\n",
    "norders.set_index('user_id', inplace = True)\n",
    "\n",
    "days.set_index('user_id', inplace = True)\n",
    "\n",
    "cust_summ_times = days.join(hour, how = 'left').join(day, how = 'left').join(norders, how = 'left')\n",
    "cust_summ_times.to_csv(\"cust_summ_times.csv\")\n",
    "\n",
    "\n"
   ]
  },
  {
   "cell_type": "code",
   "execution_count": null,
   "metadata": {
    "collapsed": true
   },
   "outputs": [],
   "source": []
  },
  {
   "cell_type": "code",
   "execution_count": 16,
   "metadata": {
    "collapsed": false
   },
   "outputs": [],
   "source": [
    "X = pd.read_csv(\"cust_summ_times.csv\")\n",
    "X.set_index('user_id', inplace = True)\n",
    "X = np.matrix(X)\n",
    "X =sklearn.preprocessing.scale(X, axis=0, with_mean=True, with_std=True, copy=False)\n",
    "\n",
    "\n",
    "Ks = range(1, 30)\n",
    "km = [MiniBatchKMeans(init='k-means++', n_clusters=i,n_init=10000, max_no_improvement=10, verbose=0) for i in Ks]\n",
    "score = [km[i].fit(X).score(X) for i in range(len(km))]"
   ]
  },
  {
   "cell_type": "code",
   "execution_count": 17,
   "metadata": {
    "collapsed": false
   },
   "outputs": [
    {
     "data": {
      "image/png": "[encoded data removed]",
      "text/plain": [
       "<matplotlib.figure.Figure at 0x2cc814a6b38>"
      ]
     },
     "metadata": {},
     "output_type": "display_data"
    }
   ],
   "source": [
    "plt.plot(Ks, score)\n",
    "plt.title(\"Plot of effeciveness score vs k (number of clusters)\")\n",
    "plt.xlabel(\"Number of Clusters, K\")\n",
    "plt.ylabel(\"Effectiveness Score\")\n",
    "plt.show()"
   ]
  },
  {
   "cell_type": "code",
   "execution_count": null,
   "metadata": {
    "collapsed": true
   },
   "outputs": [],
   "source": [
    "#K-means clustering with k = 4 as found from the above elbow plot\n",
    "km = MiniBatchKMeans(init='k-means++', n_clusters=5,n_init=100000, max_no_improvement=10, verbose=0)\n",
    "km.fit(X)\n",
    "y = km.predict(X)\n",
    "\n",
    "with open('timecluters1.pickle', 'wb') as handle:\n",
    "    pickle.dump(y, handle, protocol=pickle.HIGHEST_PROTOCOL)\n"
   ]
  },
  {
   "cell_type": "code",
   "execution_count": null,
   "metadata": {
    "collapsed": true
   },
   "outputs": [],
   "source": []
  },
  {
   "cell_type": "code",
   "execution_count": null,
   "metadata": {
    "collapsed": false
   },
   "outputs": [],
   "source": []
  },
  {
   "cell_type": "code",
   "execution_count": null,
   "metadata": {
    "collapsed": false
   },
   "outputs": [],
   "source": []
  },
  {
   "cell_type": "code",
   "execution_count": null,
   "metadata": {
    "collapsed": false
   },
   "outputs": [],
   "source": []
  }
 ],
 "metadata": {
  "anaconda-cloud": {},
  "kernelspec": {
   "display_name": "Python [conda root]",
   "language": "python",
   "name": "conda-root-py"
  },
  "language_info": {
   "codemirror_mode": {
    "name": "ipython",
    "version": 3
   },
   "file_extension": ".py",
   "mimetype": "text/x-python",
   "name": "python",
   "nbconvert_exporter": "python",
   "pygments_lexer": "ipython3",
   "version": "3.5.2"
  }
 },
 "nbformat": 4,
 "nbformat_minor": 2
}
